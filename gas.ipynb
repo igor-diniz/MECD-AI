{
 "cells": [
  {
   "cell_type": "markdown",
   "metadata": {},
   "source": [
    "# Genetic Algorithm"
   ]
  },
  {
   "cell_type": "code",
   "execution_count": 1,
   "metadata": {},
   "outputs": [],
   "source": [
    "from helpers.file_reader import FileReader\n",
    "from helpers.solution import Solution\n",
    "from metaheuristics.solver import Solver\n",
    "from copy import deepcopy\n",
    "import math\n",
    "import numpy as np"
   ]
  },
  {
   "cell_type": "code",
   "execution_count": 2,
   "metadata": {},
   "outputs": [],
   "source": [
    "file_name = \"data/b_read_on.in\"\n",
    "file_reader = FileReader()\n",
    "total_books, total_libraries, total_days = file_reader.read(file_name)"
   ]
  },
  {
   "cell_type": "markdown",
   "metadata": {},
   "source": [
    "## Methods"
   ]
  },
  {
   "cell_type": "markdown",
   "metadata": {},
   "source": [
    "### Helper methods\n",
    "- generate_population()\n",
    "- cross_over()\n",
    "- mutation()"
   ]
  },
  {
   "cell_type": "code",
   "execution_count": 3,
   "metadata": {},
   "outputs": [],
   "source": [
    "def generate_population(population_size):\n",
    "    population = []\n",
    "    parent_solver =  Solver(total_books, total_libraries, total_days)\n",
    "    for i in range(population_size):\n",
    "        parent_solver.clear()\n",
    "        parent_solver =  Solver(total_books, total_libraries, total_days)\n",
    "        solution = parent_solver.create_initial_solution(\"random\")\n",
    "        if solution.is_feasible():\n",
    "            population.append(solution)\n",
    "        else:\n",
    "            last_library_id = solution.libraries.pop().id\n",
    "            solution.libraries = solution.libraries[:-1]\n",
    "            updated_books = [book for book in solution.books if book.library_id != last_library_id]\n",
    "            solution.books = updated_books\n",
    "            population.append(solution)\n",
    "    return population"
   ]
  },
  {
   "cell_type": "code",
   "execution_count": 5,
   "metadata": {},
   "outputs": [],
   "source": [
    "def print_population(population):\n",
    "    for i in range(len(population)):\n",
    "        print(f\"Solution {i}: {population[i]}, {(population[i].evaluate())}\")"
   ]
  },
  {
   "cell_type": "code",
   "execution_count": 8,
   "metadata": {},
   "outputs": [],
   "source": [
    "def cross_over(solution_1, solution_2):\n",
    "    mid_index_1 = math.trunc(len(solution_1.libraries) / 2)\n",
    "    mid_index_2 = math.trunc(len(solution_2.libraries) / 2)\n",
    "    child_1_libraries = np.append(solution_1.libraries[0:mid_index_1], solution_2.libraries[mid_index_2:]).tolist()\n",
    "    #child_1 = Solution()\n",
    "    child_2_libraries = np.append(solution_2.libraries[0:mid_index_1], solution_1.libraries[mid_index_2:]).tolist()\n",
    "#\n",
    "    #remaining_days = total_days\n",
    "    #\n",
    "    #while remaining_days > 0:\n",
    "    #    for library in child_1_libraries:\n",
    "    #        child_1.add_library(library)\n",
    "#\n",
    "    #        next_book_id = 0\n",
    "    #        n_books_scanned = 0\n",
    "#\n",
    "    #        while next_book_id < len(library.book_list) and \\\n",
    "    #            n_books_scanned <= remaining_days * library.ship_per_day:\n",
    "    #            book_max_score = library.book_list[next_book_id]\n",
    "    #            scanned = child_1.add_book(book_max_score)\n",
    "    #            \n",
    "    #            if scanned:\n",
    "    #                book_max_score.library_id = library.id\n",
    "    #                n_books_scanned += 1\n",
    "    #            \n",
    "    #            next_book_id += 1\n",
    "    #    remaining_days -= library.signup_days\n",
    "    #    \n",
    "    #    \n",
    "    return child_1_libraries, child_2_libraries"
   ]
  },
  {
   "cell_type": "code",
   "execution_count": 90,
   "metadata": {},
   "outputs": [],
   "source": [
    "def tournament_select(population, tournament_size):\n",
    "    population_copy = copy.deepcopy(population)\n",
    "    best_solution = population_copy[0]\n",
    "    best_score = best_solution.evaluate()\n",
    "    \n",
    "    for i in range(tournament_size):\n",
    "        index = np.random.randint(0, len(population_copy))\n",
    "        score = population_copy[index].evaluate()\n",
    "        if score > best_score:\n",
    "            best_score = score\n",
    "            best_solution = population_copy[index]\n",
    "        del population_copy[index]\n",
    "    return best_solution"
   ]
  },
  {
   "cell_type": "code",
   "execution_count": 36,
   "metadata": {},
   "outputs": [],
   "source": [
    "def roulette_select(population):\n",
    "    score_sum = sum([solution.evaluate() for solution in population])\n",
    "    selection_probabilities = [solution.evaluate() / score_sum for solution in population]\n",
    "    return population[np.random.choice(len(population), p=selection_probabilities)]"
   ]
  },
  {
   "cell_type": "code",
   "execution_count": 5,
   "metadata": {},
   "outputs": [],
   "source": [
    "def mutate(solution):\n",
    "    copy_solution = deepcopy(solution)\n",
    "    sol_libraries = [library for library in copy_solution.libraries]\n",
    "    index_1 = np.random.randint(0, len(sol_libraries))\n",
    "    index_2 = (index_1 + np.random.randint(0, len(sol_libraries))) % (len(sol_libraries) - 1) # Efficient way to generate a non-repeated index\n",
    "    sol_libraries[index_1], sol_libraries[index_2] = sol_libraries[index_2], sol_libraries[index_1]\n",
    "    mutated = Solution()\n",
    "    remaining_days = total_days\n",
    "\n",
    "    while remaining_days > 0 and sol_libraries:\n",
    "        for library in sol_libraries:\n",
    "            remaining_days -= library.signup_days\n",
    "            next_book_id = 0\n",
    "            n_books_scanned = 0\n",
    "            mutated.add_library(library)\n",
    "            while next_book_id < len(library.book_list) and \\\n",
    "                n_books_scanned <= remaining_days * library.ship_per_day:\n",
    "                book_max_score = library.book_list[next_book_id]\n",
    "                scanned = mutated.add_book(book_max_score)\n",
    "                \n",
    "                if scanned:\n",
    "                    book_max_score.library_id = library.id\n",
    "                    n_books_scanned += 1\n",
    "                \n",
    "                next_book_id += 1\n",
    "    \n",
    "    return mutated"
   ]
  },
  {
   "cell_type": "markdown",
   "metadata": {},
   "source": [
    "#### Tests"
   ]
  },
  {
   "cell_type": "code",
   "execution_count": 14,
   "metadata": {},
   "outputs": [],
   "source": [
    "pop = generate_population(3)"
   ]
  },
  {
   "cell_type": "code",
   "execution_count": 15,
   "metadata": {},
   "outputs": [
    {
     "name": "stdout",
     "output_type": "stream",
     "text": [
      "\n",
      "\t library_id: 74\n",
      "\t\t books:\n",
      "\n",
      "\t Total Score: 98400\n"
     ]
    }
   ],
   "source": [
    "print(pop[0])"
   ]
  },
  {
   "cell_type": "code",
   "execution_count": 63,
   "metadata": {},
   "outputs": [],
   "source": []
  },
  {
   "cell_type": "code",
   "execution_count": 64,
   "metadata": {},
   "outputs": [
    {
     "name": "stdout",
     "output_type": "stream",
     "text": [
      "1012.0 1000\n",
      "3012.0 1000\n",
      "4032.0 1000\n",
      "5040.0 1000\n",
      "6052.0 1000\n",
      "7067.0 1000\n",
      "8075.0 1000\n",
      "9086.0 1000\n",
      "10099.0 1000\n",
      "11102.0 1000\n",
      "12109.0 1000\n",
      "13119.0 1000\n",
      "14139.0 1000\n",
      "15151.0 1000\n",
      "16157.0 1000\n",
      "17177.0 1000\n",
      "18185.0 1000\n",
      "19197.0 1000\n",
      "20212.0 1000\n",
      "21220.0 1000\n",
      "22231.0 1000\n",
      "23244.0 1000\n",
      "24247.0 1000\n",
      "25254.0 1000\n",
      "26264.0 1000\n",
      "27284.0 1000\n",
      "27988.0 1000\n",
      "28682.0 1000\n",
      "29357.0 1000\n",
      "30013.0 1000\n",
      "31021.0 1000\n",
      "31649.0 1000\n",
      "32269.0 1000\n",
      "32875.0 1000\n",
      "33466.0 1000\n",
      "34201.0 1000\n",
      "35204.0 1000\n",
      "35945.0 1000\n",
      "36957.0 1000\n",
      "37963.0 1000\n",
      "38983.0 1000\n",
      "39991.0 1000\n",
      "41003.0 1000\n",
      "42018.0 1000\n",
      "43026.0 1000\n",
      "44037.0 1000\n",
      "45050.0 1000\n",
      "46053.0 1000\n",
      "47060.0 1000\n",
      "48070.0 1000\n",
      "49090.0 1000\n",
      "49831.0 1000\n",
      "50535.0 1000\n",
      "51229.0 1000\n",
      "51904.0 1000\n",
      "52560.0 1000\n",
      "53188.0 1000\n",
      "53808.0 1000\n",
      "54414.0 1000\n",
      "55005.0 1000\n",
      "55740.0 1000\n",
      "55740.0 1000\n",
      "55740.0 1000\n",
      "55740.0 1000\n",
      "55740.0 1000\n",
      "55740.0 1000\n",
      "56748.0 1000\n",
      "56748.0 1000\n",
      "56748.0 1000\n",
      "56748.0 1000\n",
      "57376.0 1000\n",
      "57557.0 1000\n",
      "57557.0 1000\n",
      "57557.0 1000\n",
      "58292.0 1000\n",
      "60292.0 1000\n",
      "60292.0 1000\n",
      "60967.0 1000\n",
      "61904.0 1000\n",
      "62864.0 1000\n",
      "62864.0 1000\n",
      "63876.0 1000\n",
      "64887.0 1000\n",
      "64887.0 1000\n",
      "64887.0 1000\n",
      "65794.0 1000\n",
      "65794.0 1000\n",
      "66488.0 1000\n",
      "66488.0 1000\n",
      "67079.0 1000\n",
      "67079.0 1000\n",
      "67912.0 1000\n",
      "67912.0 1000\n",
      "67912.0 1000\n",
      "68919.0 1000\n",
      "68919.0 1000\n",
      "69931.0 1000\n",
      "69931.0 1000\n",
      "69931.0 1000\n",
      "69931.0 1000\n",
      "70669.0 1000\n",
      "71404.0 1000\n",
      "72108.0 1000\n",
      "72108.0 1000\n",
      "72108.0 1000\n",
      "72108.0 1000\n",
      "72783.0 1000\n",
      "72783.0 1000\n",
      "72783.0 1000\n",
      "72783.0 1000\n",
      "72783.0 1000\n",
      "73389.0 1000\n",
      "73389.0 1000\n",
      "73389.0 1000\n",
      "73389.0 1000\n",
      "73389.0 1000\n",
      "73389.0 1000\n",
      "73389.0 1000\n",
      "74045.0 1000\n",
      "74045.0 1000\n",
      "74045.0 1000\n",
      "74045.0 1000\n",
      "75053.0 1000\n",
      "75053.0 1000\n",
      "75053.0 1000\n",
      "76061.0 1000\n",
      "77081.0 1000\n",
      "77081.0 1000\n",
      "77081.0 1000\n",
      "77081.0 1000\n",
      "77081.0 1000\n",
      "78094.0 1000\n",
      "78094.0 1000\n",
      "78094.0 1000\n",
      "78094.0 1000\n",
      "78094.0 1000\n",
      "78094.0 1000\n",
      "78094.0 1000\n",
      "78094.0 1000\n",
      "78094.0 1000\n",
      "78343.0 1000\n",
      "78343.0 1000\n",
      "79346.0 1000\n",
      "79346.0 1000\n",
      "79346.0 1000\n",
      "79346.0 1000\n",
      "79346.0 1000\n",
      "79527.0 1000\n",
      "79527.0 1000\n",
      "80268.0 1000\n",
      "80268.0 1000\n",
      "80268.0 1000\n",
      "80268.0 1000\n",
      "81288.0 1000\n",
      "83288.0 1000\n"
     ]
    },
    {
     "data": {
      "text/plain": [
       "'hi'"
      ]
     },
     "execution_count": 64,
     "metadata": {},
     "output_type": "execute_result"
    }
   ],
   "source": [
    "is_feasible(pop[0])"
   ]
  },
  {
   "cell_type": "markdown",
   "metadata": {},
   "source": [
    "### Main method: generic_algoritm()"
   ]
  },
  {
   "cell_type": "code",
   "execution_count": 55,
   "metadata": {},
   "outputs": [],
   "source": [
    "def generic_algorithm(num_iterations = 5):\n",
    "    population = generate_population(10)\n",
    "\n",
    "    best_solution = population[0] # Initial solution\n",
    "    best_score = best_solution.evaluate()\n",
    "    best_solution_generation = 0 # Generation on which the best solution was found\n",
    "    \n",
    "    generation_no = 0\n",
    "\n",
    "    print(f\"Initial solution: {best_solution}\")\n",
    "    \n",
    "    while(num_iterations > generation_no):\n",
    "        \n",
    "        generation_no += 1\n",
    "        \n",
    "        tournment_winner_sol = tournament_select(population, 4)\n",
    "        roulette_winner_sol = roulette_select(population)\n",
    "        \n",
    "        # Next generation\n",
    "        crossover_sol_1, crossover_sol_2 = cross_over(tournment_winner_sol, roulette_winner_sol)\n",
    "    return print(f\"Best solution: {best_solution}\")"
   ]
  },
  {
   "cell_type": "code",
   "execution_count": null,
   "metadata": {},
   "outputs": [],
   "source": []
  }
 ],
 "metadata": {
  "kernelspec": {
   "display_name": "datasci",
   "language": "python",
   "name": "python3"
  },
  "language_info": {
   "codemirror_mode": {
    "name": "ipython",
    "version": 3
   },
   "file_extension": ".py",
   "mimetype": "text/x-python",
   "name": "python",
   "nbconvert_exporter": "python",
   "pygments_lexer": "ipython3",
   "version": "3.10.11"
  }
 },
 "nbformat": 4,
 "nbformat_minor": 2
}
